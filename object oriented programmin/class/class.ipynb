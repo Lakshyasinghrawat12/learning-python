{
 "cells": [
  {
   "cell_type": "code",
   "execution_count": 41,
   "id": "4dca1a69",
   "metadata": {},
   "outputs": [],
   "source": [
    "class pwskills1:\n",
    "    def __init__(self, phone_num, emailid, std_id):\n",
    "        self.phone_number= phone_num\n",
    "        self.email= emailid\n",
    "        self.stdid= std_id\n",
    "\n",
    "    def return_detail(self):\n",
    "        return self.stdid, self.email, self.phone_number"
   ]
  },
  {
   "cell_type": "code",
   "execution_count": 42,
   "id": "83b2584f",
   "metadata": {},
   "outputs": [],
   "source": [
    "rohaan= pwskills1(34892749729, 'laskyah@gmail.com', 213141)"
   ]
  },
  {
   "cell_type": "code",
   "execution_count": 43,
   "id": "fa8320e1",
   "metadata": {},
   "outputs": [
    {
     "data": {
      "text/plain": [
       "(213141, 'laskyah@gmail.com', 34892749729)"
      ]
     },
     "execution_count": 43,
     "metadata": {},
     "output_type": "execute_result"
    }
   ],
   "source": [
    "rohaan.return_detail()"
   ]
  },
  {
   "cell_type": "code",
   "execution_count": 44,
   "id": "0b7bfc6e",
   "metadata": {},
   "outputs": [],
   "source": [
    "lakshya= pwskills1(3452674234, \"Lakshyarawatsingh@gmail.com\", 167312)"
   ]
  },
  {
   "cell_type": "code",
   "execution_count": 45,
   "id": "61842f21",
   "metadata": {},
   "outputs": [
    {
     "data": {
      "text/plain": [
       "(167312, 'Lakshyarawatsingh@gmail.com', 3452674234)"
      ]
     },
     "execution_count": 45,
     "metadata": {},
     "output_type": "execute_result"
    }
   ],
   "source": [
    "lakshya.return_detail()"
   ]
  },
  {
   "cell_type": "code",
   "execution_count": 46,
   "id": "454a0af8",
   "metadata": {},
   "outputs": [
    {
     "data": {
      "text/plain": [
       "3452674234"
      ]
     },
     "execution_count": 46,
     "metadata": {},
     "output_type": "execute_result"
    }
   ],
   "source": [
    "lakshya.phone_number"
   ]
  },
  {
   "cell_type": "code",
   "execution_count": 47,
   "id": "d6fd673c",
   "metadata": {},
   "outputs": [
    {
     "ename": "AttributeError",
     "evalue": "'pwskills1' object has no attribute 'phone_num'",
     "output_type": "error",
     "traceback": [
      "\u001b[1;31m---------------------------------------------------------------------------\u001b[0m",
      "\u001b[1;31mAttributeError\u001b[0m                            Traceback (most recent call last)",
      "Input \u001b[1;32mIn [47]\u001b[0m, in \u001b[0;36m<cell line: 1>\u001b[1;34m()\u001b[0m\n\u001b[1;32m----> 1\u001b[0m \u001b[43mlakshya\u001b[49m\u001b[38;5;241;43m.\u001b[39;49m\u001b[43mphone_num\u001b[49m\n",
      "\u001b[1;31mAttributeError\u001b[0m: 'pwskills1' object has no attribute 'phone_num'"
     ]
    }
   ],
   "source": [
    "lakshya.phone_num"
   ]
  },
  {
   "cell_type": "code",
   "execution_count": 48,
   "id": "ac385347",
   "metadata": {},
   "outputs": [],
   "source": [
    "# next pratice question"
   ]
  },
  {
   "cell_type": "code",
   "execution_count": 49,
   "id": "2d3fd30e",
   "metadata": {},
   "outputs": [],
   "source": [
    "class square:\n",
    "    def __init__(self,number):\n",
    "        self.num= number\n",
    "    def return_sqr(self):\n",
    "        return self.num * self.num"
   ]
  },
  {
   "cell_type": "code",
   "execution_count": 50,
   "id": "320f8e9f",
   "metadata": {},
   "outputs": [],
   "source": [
    "sqr= square(4)"
   ]
  },
  {
   "cell_type": "code",
   "execution_count": 51,
   "id": "108d83a5",
   "metadata": {},
   "outputs": [
    {
     "data": {
      "text/plain": [
       "16"
      ]
     },
     "execution_count": 51,
     "metadata": {},
     "output_type": "execute_result"
    }
   ],
   "source": [
    "sqr.return_sqr()"
   ]
  },
  {
   "cell_type": "code",
   "execution_count": null,
   "id": "7e156b2d",
   "metadata": {},
   "outputs": [],
   "source": []
  }
 ],
 "metadata": {
  "kernelspec": {
   "display_name": "Python 3 (ipykernel)",
   "language": "python",
   "name": "python3"
  },
  "language_info": {
   "codemirror_mode": {
    "name": "ipython",
    "version": 3
   },
   "file_extension": ".py",
   "mimetype": "text/x-python",
   "name": "python",
   "nbconvert_exporter": "python",
   "pygments_lexer": "ipython3",
   "version": "3.9.12"
  }
 },
 "nbformat": 4,
 "nbformat_minor": 5
}
