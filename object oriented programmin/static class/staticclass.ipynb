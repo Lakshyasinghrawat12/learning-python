{
 "cells": [
  {
   "cell_type": "code",
   "execution_count": 26,
   "metadata": {},
   "outputs": [],
   "source": [
    "class book:\n",
    "\n",
    "    def book_det(self, book_name, book_user, bookid):\n",
    "        print(book_name, book_user, bookid)\n",
    "\n",
    "    @staticmethod\n",
    "    def get_book_det(book_nam):\n",
    "        print(book_nam)\n",
    "\n",
    "    @staticmethod\n",
    "    def mail_id(email_id):\n",
    "        book.get_book_det(['harry potter', 'above'])\n",
    "        print(email_id)\n",
    "    \n",
    "    @classmethod\n",
    "    def class_method(cls):\n",
    "        cls.get_book_det(['harry potter', 'above'])\n",
    "\n",
    "    def all_fun(self, id):\n",
    "        print(id)\n",
    "        self.mail_id('iafanfjafdi@gmail.com')"
   ]
  },
  {
   "cell_type": "code",
   "execution_count": 16,
   "metadata": {},
   "outputs": [],
   "source": [
    "det= book()"
   ]
  },
  {
   "cell_type": "code",
   "execution_count": 17,
   "metadata": {},
   "outputs": [
    {
     "name": "stdout",
     "output_type": "stream",
     "text": [
      "Sova user 1231f3f\n"
     ]
    }
   ],
   "source": [
    "det.book_det('Sova', 'user', '1231f3f')"
   ]
  },
  {
   "cell_type": "markdown",
   "metadata": {},
   "source": [
    "Invoking static method"
   ]
  },
  {
   "cell_type": "code",
   "execution_count": 18,
   "metadata": {},
   "outputs": [
    {
     "name": "stdout",
     "output_type": "stream",
     "text": [
      "['harry potter', 'above']\n"
     ]
    }
   ],
   "source": [
    "book.get_book_det(['harry potter', 'above'])"
   ]
  },
  {
   "cell_type": "markdown",
   "metadata": {},
   "source": [
    "@staticmethod within @classmethod"
   ]
  },
  {
   "cell_type": "code",
   "execution_count": 19,
   "metadata": {},
   "outputs": [
    {
     "name": "stdout",
     "output_type": "stream",
     "text": [
      "['harry potter', 'above']\n"
     ]
    }
   ],
   "source": [
    "book.class_method()"
   ]
  },
  {
   "cell_type": "markdown",
   "metadata": {},
   "source": [
    "calling @staticmethod within a @staticmethod"
   ]
  },
  {
   "cell_type": "code",
   "execution_count": 20,
   "metadata": {},
   "outputs": [
    {
     "name": "stdout",
     "output_type": "stream",
     "text": [
      "['harry potter', 'above']\n",
      "laskifja@gmail.com\n"
     ]
    }
   ],
   "source": [
    "book.mail_id('laskifja@gmail.com')"
   ]
  },
  {
   "cell_type": "markdown",
   "metadata": {},
   "source": [
    "@staticmthod within a instace method"
   ]
  },
  {
   "cell_type": "code",
   "execution_count": 23,
   "metadata": {},
   "outputs": [],
   "source": [
    "b=book()"
   ]
  },
  {
   "cell_type": "code",
   "execution_count": 28,
   "metadata": {},
   "outputs": [
    {
     "name": "stdout",
     "output_type": "stream",
     "text": [
      "['h143123', 'a2342']\n",
      "['harry potter', 'above']\n",
      "iafanfjafdi@gmail.com\n"
     ]
    }
   ],
   "source": [
    "b.all_fun(['h143123', 'a2342'])"
   ]
  }
 ],
 "metadata": {
  "kernelspec": {
   "display_name": "base",
   "language": "python",
   "name": "python3"
  },
  "language_info": {
   "codemirror_mode": {
    "name": "ipython",
    "version": 3
   },
   "file_extension": ".py",
   "mimetype": "text/x-python",
   "name": "python",
   "nbconvert_exporter": "python",
   "pygments_lexer": "ipython3",
   "version": "3.9.12"
  }
 },
 "nbformat": 4,
 "nbformat_minor": 2
}
