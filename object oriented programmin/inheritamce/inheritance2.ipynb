{
 "cells": [
  {
   "cell_type": "markdown",
   "metadata": {},
   "source": [
    "Multilevel inheritance code------------------------------------------------------------------------------------------------------------------------------------------>"
   ]
  },
  {
   "cell_type": "code",
   "execution_count": 19,
   "metadata": {},
   "outputs": [],
   "source": [
    "class grandfather:\n",
    "    \n",
    "    #Base class 1\n",
    "    def __init__(self,grandfname):\n",
    "        self.grandfname= grandfname\n",
    "\n",
    "class father(grandfather):\n",
    "    \n",
    "    #Intermediate calss\n",
    "    def __init__(self, fathername,grandfname):\n",
    "        self.fathername= fathername\n",
    "\n",
    "        grandfather.__init__(self, grandfname)   #invoking constructure of class grandfather\n",
    "\n",
    "class son(father):\n",
    "    \n",
    "    #Derived class\n",
    "    def __init__(self, sonname,fathername, grandfname):\n",
    "        \n",
    "        self.sonname= sonname\n",
    "        \n",
    "        father.__init__(self, fathername, grandfname)   #invoking constructure of class fahter\n",
    "\n",
    "    def print_name(self):\n",
    "        print(\"son name is: \", self.sonname)\n",
    "        print(\"Father name is : \", self.fathername)\n",
    "        print(\"Grandfather name is: \", self.grandfname)"
   ]
  },
  {
   "cell_type": "code",
   "execution_count": 20,
   "metadata": {},
   "outputs": [
    {
     "name": "stdout",
     "output_type": "stream",
     "text": [
      "jeff\n",
      "son name is:  prince\n",
      "Father name is :  gopal\n",
      "Grandfather name is:  jeff\n"
     ]
    }
   ],
   "source": [
    "s1= son(\"prince\", \"gopal\", \"jeff\")\n",
    "print(s1.grandfname)\n",
    "s1.print_name()"
   ]
  },
  {
   "cell_type": "markdown",
   "metadata": {},
   "source": [
    "Hierarchical Inheritance--------------------------------------------------------------------------------------------------------------------->"
   ]
  },
  {
   "cell_type": "code",
   "execution_count": 21,
   "metadata": {},
   "outputs": [],
   "source": [
    "#Base class\n",
    "class parent:\n",
    "    \n",
    "    def fun1(self):\n",
    "        return \"This is a function in parent class\"\n",
    "\n",
    "#Derived class1   \n",
    "class child1(parent):\n",
    "    \n",
    "    def fun2(self):\n",
    "        return \"This is a function in child1\"\n",
    "    \n",
    "#Derived class2\n",
    "class child2(parent):\n",
    "\n",
    "    def fun3(self):\n",
    "        return \"This is a function in child2\""
   ]
  },
  {
   "cell_type": "code",
   "execution_count": 22,
   "metadata": {},
   "outputs": [],
   "source": [
    "obj1=child1()\n",
    "obj2=child2()"
   ]
  },
  {
   "cell_type": "code",
   "execution_count": 23,
   "metadata": {},
   "outputs": [
    {
     "data": {
      "text/plain": [
       "'This is a function in parent class'"
      ]
     },
     "execution_count": 23,
     "metadata": {},
     "output_type": "execute_result"
    }
   ],
   "source": [
    "obj1.fun1()"
   ]
  },
  {
   "cell_type": "code",
   "execution_count": 24,
   "metadata": {},
   "outputs": [
    {
     "data": {
      "text/plain": [
       "'This is a function in child1'"
      ]
     },
     "execution_count": 24,
     "metadata": {},
     "output_type": "execute_result"
    }
   ],
   "source": [
    "obj1.fun2()"
   ]
  },
  {
   "cell_type": "code",
   "execution_count": 25,
   "metadata": {},
   "outputs": [
    {
     "data": {
      "text/plain": [
       "'This is a function in parent class'"
      ]
     },
     "execution_count": 25,
     "metadata": {},
     "output_type": "execute_result"
    }
   ],
   "source": [
    "obj2.fun1()"
   ]
  },
  {
   "cell_type": "code",
   "execution_count": 26,
   "metadata": {},
   "outputs": [
    {
     "data": {
      "text/plain": [
       "'This is a function in child2'"
      ]
     },
     "execution_count": 26,
     "metadata": {},
     "output_type": "execute_result"
    }
   ],
   "source": [
    "obj2.fun3()"
   ]
  }
 ],
 "metadata": {
  "kernelspec": {
   "display_name": "base",
   "language": "python",
   "name": "python3"
  },
  "language_info": {
   "codemirror_mode": {
    "name": "ipython",
    "version": 3
   },
   "file_extension": ".py",
   "mimetype": "text/x-python",
   "name": "python",
   "nbconvert_exporter": "python",
   "pygments_lexer": "ipython3",
   "version": "3.9.12"
  }
 },
 "nbformat": 4,
 "nbformat_minor": 2
}
