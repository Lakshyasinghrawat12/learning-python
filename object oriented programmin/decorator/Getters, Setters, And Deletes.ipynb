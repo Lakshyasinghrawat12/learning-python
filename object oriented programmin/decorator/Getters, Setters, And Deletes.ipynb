{
 "cells": [
  {
   "cell_type": "code",
   "execution_count": 69,
   "metadata": {},
   "outputs": [],
   "source": [
    "class personal:\n",
    "\n",
    "    def __init__(self, name, age, bank_info):\n",
    "\n",
    "        self.name= name\n",
    "        self.age= age\n",
    "        self.__bank_info= bank_info\n",
    "\n",
    "    @property\n",
    "    def get_priatt(self):\n",
    "        return self.__bank_info\n",
    "    \n",
    "    @get_priatt.setter\n",
    "    def get_pariatt_set(self, amount):\n",
    "        if amount>=500:\n",
    "            pass\n",
    "        else:\n",
    "            self.__bank_info = amount\n",
    "\n",
    "    @get_priatt.deleter\n",
    "    def get_pariatt_del(self):\n",
    "        del self.__bank_info\n"
   ]
  },
  {
   "cell_type": "code",
   "execution_count": 70,
   "metadata": {},
   "outputs": [],
   "source": [
    "d= personal('lakshya', 27, 12332777)"
   ]
  },
  {
   "cell_type": "code",
   "execution_count": 71,
   "metadata": {},
   "outputs": [
    {
     "data": {
      "text/plain": [
       "12332777"
      ]
     },
     "execution_count": 71,
     "metadata": {},
     "output_type": "execute_result"
    }
   ],
   "source": [
    "d.get_pariatt_set"
   ]
  },
  {
   "cell_type": "code",
   "execution_count": 72,
   "metadata": {},
   "outputs": [],
   "source": [
    "del d.get_pariatt_del"
   ]
  },
  {
   "cell_type": "code",
   "execution_count": 73,
   "metadata": {},
   "outputs": [
    {
     "ename": "AttributeError",
     "evalue": "'personal' object has no attribute '_personal__bank_info'",
     "output_type": "error",
     "traceback": [
      "\u001b[1;31m---------------------------------------------------------------------------\u001b[0m",
      "\u001b[1;31mAttributeError\u001b[0m                            Traceback (most recent call last)",
      "Input \u001b[1;32mIn [73]\u001b[0m, in \u001b[0;36m<cell line: 1>\u001b[1;34m()\u001b[0m\n\u001b[1;32m----> 1\u001b[0m \u001b[43md\u001b[49m\u001b[38;5;241;43m.\u001b[39;49m\u001b[43mget_pariatt_set\u001b[49m\n",
      "Input \u001b[1;32mIn [69]\u001b[0m, in \u001b[0;36mpersonal.get_priatt\u001b[1;34m(self)\u001b[0m\n\u001b[0;32m      9\u001b[0m \u001b[38;5;129m@property\u001b[39m\n\u001b[0;32m     10\u001b[0m \u001b[38;5;28;01mdef\u001b[39;00m \u001b[38;5;21mget_priatt\u001b[39m(\u001b[38;5;28mself\u001b[39m):\n\u001b[1;32m---> 11\u001b[0m     \u001b[38;5;28;01mreturn\u001b[39;00m \u001b[38;5;28;43mself\u001b[39;49m\u001b[38;5;241;43m.\u001b[39;49m\u001b[43m__bank_info\u001b[49m\n",
      "\u001b[1;31mAttributeError\u001b[0m: 'personal' object has no attribute '_personal__bank_info'"
     ]
    }
   ],
   "source": [
    "d.get_pariatt_set"
   ]
  }
 ],
 "metadata": {
  "kernelspec": {
   "display_name": "base",
   "language": "python",
   "name": "python3"
  },
  "language_info": {
   "codemirror_mode": {
    "name": "ipython",
    "version": 3
   },
   "file_extension": ".py",
   "mimetype": "text/x-python",
   "name": "python",
   "nbconvert_exporter": "python",
   "pygments_lexer": "ipython3",
   "version": "3.9.12"
  }
 },
 "nbformat": 4,
 "nbformat_minor": 2
}
