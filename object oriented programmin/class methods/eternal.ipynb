{
 "cells": [
  {
   "cell_type": "markdown",
   "metadata": {},
   "source": [
    "TO ADD EXTERNAL FUNCTIONS IN A CLASS WITHOUD REWRITING THE CODE\n"
   ]
  },
  {
   "cell_type": "code",
   "execution_count": 49,
   "metadata": {},
   "outputs": [],
   "source": [
    "class dorm:\n",
    "\n",
    "    mobile_no= 7616371263 #class variable\n",
    "\n",
    "    def __init__(self, name, dorm_no):\n",
    "        self.name= name\n",
    "        self.dorm_no= dorm_no\n",
    "\n",
    "    @classmethod\n",
    "    def change_mb_no(cls, mobile):\n",
    "        dorm.mobile_no= mobile\n",
    "    \n",
    "    @classmethod\n",
    "    def details(cls, name, dorm_no):\n",
    "        return cls(name, dorm_no)\n",
    "\n",
    "    def get_details(self):\n",
    "        return self.name, self.dorm_no"
   ]
  },
  {
   "cell_type": "code",
   "execution_count": 50,
   "metadata": {},
   "outputs": [],
   "source": [
    "#Creating external function\n",
    "\n",
    "def course_detal(cls, course_name):\n",
    "    print(\"Course is \", course_name)"
   ]
  },
  {
   "cell_type": "code",
   "execution_count": 51,
   "metadata": {},
   "outputs": [],
   "source": [
    "#adding the function to the class\n",
    "\n",
    "dorm.course_detal= classmethod(course_detal)"
   ]
  },
  {
   "cell_type": "code",
   "execution_count": 52,
   "metadata": {},
   "outputs": [
    {
     "name": "stdout",
     "output_type": "stream",
     "text": [
      "Course is  data science masters\n"
     ]
    }
   ],
   "source": [
    "#invoking the function\n",
    "dorm.course_detal(\"data science masters\")"
   ]
  },
  {
   "cell_type": "code",
   "execution_count": 53,
   "metadata": {},
   "outputs": [],
   "source": [
    "def teacher(cls, teac_name):\n",
    "    print(\"List of teachers are \", teac_name)"
   ]
  },
  {
   "cell_type": "code",
   "execution_count": 54,
   "metadata": {},
   "outputs": [],
   "source": [
    "dorm.teacher= classmethod(teacher)"
   ]
  },
  {
   "cell_type": "code",
   "execution_count": 55,
   "metadata": {},
   "outputs": [
    {
     "name": "stdout",
     "output_type": "stream",
     "text": [
      "List of teachers are  ['Ajay', 'ram', 'sham']\n"
     ]
    }
   ],
   "source": [
    "dorm.teacher([\"Ajay\", 'ram', 'sham'])"
   ]
  },
  {
   "cell_type": "markdown",
   "metadata": {},
   "source": [
    "TO DISABLE A FUNCTION WITHIN THE CLASS"
   ]
  },
  {
   "cell_type": "code",
   "execution_count": 56,
   "metadata": {},
   "outputs": [],
   "source": [
    "del dorm.change_mb_no"
   ]
  },
  {
   "cell_type": "code",
   "execution_count": 58,
   "metadata": {},
   "outputs": [
    {
     "ename": "AttributeError",
     "evalue": "type object 'dorm' has no attribute 'change_mb_no'",
     "output_type": "error",
     "traceback": [
      "\u001b[1;31m---------------------------------------------------------------------------\u001b[0m",
      "\u001b[1;31mAttributeError\u001b[0m                            Traceback (most recent call last)",
      "Input \u001b[1;32mIn [58]\u001b[0m, in \u001b[0;36m<cell line: 1>\u001b[1;34m()\u001b[0m\n\u001b[1;32m----> 1\u001b[0m \u001b[43mdorm\u001b[49m\u001b[38;5;241;43m.\u001b[39;49m\u001b[43mchange_mb_no\u001b[49m(\u001b[38;5;241m12371318713\u001b[39m)\n",
      "\u001b[1;31mAttributeError\u001b[0m: type object 'dorm' has no attribute 'change_mb_no'"
     ]
    }
   ],
   "source": [
    "dorm.change_mb_no(12371318713)"
   ]
  },
  {
   "cell_type": "markdown",
   "metadata": {},
   "source": [
    "delattr() ATTRIBUTE FUNCTION"
   ]
  },
  {
   "cell_type": "code",
   "execution_count": 59,
   "metadata": {},
   "outputs": [],
   "source": [
    "delattr(dorm, 'get_details')"
   ]
  },
  {
   "cell_type": "code",
   "execution_count": 60,
   "metadata": {},
   "outputs": [
    {
     "ename": "AttributeError",
     "evalue": "type object 'dorm' has no attribute 'get_details'",
     "output_type": "error",
     "traceback": [
      "\u001b[1;31m---------------------------------------------------------------------------\u001b[0m",
      "\u001b[1;31mAttributeError\u001b[0m                            Traceback (most recent call last)",
      "Input \u001b[1;32mIn [60]\u001b[0m, in \u001b[0;36m<cell line: 1>\u001b[1;34m()\u001b[0m\n\u001b[1;32m----> 1\u001b[0m \u001b[43mdorm\u001b[49m\u001b[38;5;241;43m.\u001b[39;49m\u001b[43mget_details\u001b[49m()\n",
      "\u001b[1;31mAttributeError\u001b[0m: type object 'dorm' has no attribute 'get_details'"
     ]
    }
   ],
   "source": [
    "dorm.get_details()"
   ]
  }
 ],
 "metadata": {
  "kernelspec": {
   "display_name": "base",
   "language": "python",
   "name": "python3"
  },
  "language_info": {
   "codemirror_mode": {
    "name": "ipython",
    "version": 3
   },
   "file_extension": ".py",
   "mimetype": "text/x-python",
   "name": "python",
   "nbconvert_exporter": "python",
   "pygments_lexer": "ipython3",
   "version": "3.9.12"
  }
 },
 "nbformat": 4,
 "nbformat_minor": 2
}
